{
 "cells": [
  {
   "cell_type": "markdown",
   "id": "0e362b39",
   "metadata": {},
   "source": [
    "# Create a generative adversarial network, building and training a GAN that can generate hand-written images of digist(0-9)"
   ]
  },
  {
   "cell_type": "markdown",
   "id": "2703dc55",
   "metadata": {},
   "source": [
    "### Learning Objectives\n",
    "1. Build the generator and discriminator components of a GAN from scratch.\n",
    "2. Create generator and discriminator loss functions.\n",
    "3. Train your GAN and visualize the generated images."
   ]
  },
  {
   "cell_type": "markdown",
   "id": "b289f3df",
   "metadata": {},
   "source": [
    "### Getting Started\n",
    "Import useful packages and the dataset you will use to build and train your GAN. A visualizer function is there to investigate the images the GAN will create."
   ]
  },
  {
   "cell_type": "code",
   "execution_count": 1,
   "id": "fbc3fba7",
   "metadata": {},
   "outputs": [],
   "source": [
    "import torch\n",
    "from torch import nn\n",
    "from tqdm.auto import tqdm\n",
    "from torchvision import transforms\n",
    "from torchvision.datasets import MNIST  # Training dataset\n",
    "from torchvision.utils import make_grid\n",
    "from torch.utils.data import DataLoader\n",
    "import matplotlib.pyplot as plt\n",
    "torch.manual_seed(0) # Set for training purposes, do not change\n",
    "\n",
    "def show_tensor_images(image_tensor, num_images=25, size=(1, 28, 28)):\n",
    "    '''\n",
    "    Function for visualizing images: Given a tensor of images, number of images, and size per images, plots and \n",
    "    prints the images in a uniform grid.\n",
    "    '''\n",
    "    image_unflat = image_tensor.detach().cpu().view(-1, *size)\n",
    "    image_grid = make_grid(image_unflat[:num_images], nrow=5)\n",
    "    plt.imshow(image_grid.permute(1,2,0).squeeze())\n",
    "    plt.show()\n"
   ]
  },
  {
   "cell_type": "markdown",
   "id": "78283126",
   "metadata": {},
   "source": [
    "### Generator\n",
    "Create a function to make a single layer/block for the generator's neural network.Each block should include\n",
    "a linear transformation to map to another shape, a batch normalization for stabilization \n",
    "and finally a non-linear activation function (ReLU) so the output can be transformed in complex ways."
   ]
  },
  {
   "cell_type": "code",
   "execution_count": 3,
   "id": "9573db23",
   "metadata": {},
   "outputs": [],
   "source": [
    "# Define the generator block function\n",
    "def get_generator_block(input_dim, output_dim):\n",
    "    '''\n",
    "    Function for returning a block of the generator's neural network given input and output dimensions.\n",
    "    Parameters:\n",
    "        input_dim: the dimension of the input vector, a scalar\n",
    "        output_dim: the dimension of the output vector, a scalar\n",
    "    Returns:\n",
    "        a generator neural network layer, with a linear transformation\n",
    "        followed by a batch normalization and then a relu activation\n",
    "    '''\n",
    "    return nn.Sequential(\n",
    "        # Hint: Replace all of the \"None\" with the appropriate dimensions.\n",
    "        # The documentation may be useful if you're less familiar with PyTorch:\n",
    "        # https://pytorch.org/docs/stable/nn.html.\n",
    "        nn.Linear(None, None),\n",
    "        nn.BatchNorm1d(None),\n",
    "        nn.ReLU(inplace=True)\n",
    "    )"
   ]
  },
  {
   "cell_type": "code",
   "execution_count": null,
   "id": "a0c071af",
   "metadata": {},
   "outputs": [],
   "source": []
  }
 ],
 "metadata": {
  "kernelspec": {
   "display_name": "Python 3",
   "language": "python",
   "name": "python3"
  },
  "language_info": {
   "codemirror_mode": {
    "name": "ipython",
    "version": 3
   },
   "file_extension": ".py",
   "mimetype": "text/x-python",
   "name": "python",
   "nbconvert_exporter": "python",
   "pygments_lexer": "ipython3",
   "version": "3.8.8"
  }
 },
 "nbformat": 4,
 "nbformat_minor": 5
}
