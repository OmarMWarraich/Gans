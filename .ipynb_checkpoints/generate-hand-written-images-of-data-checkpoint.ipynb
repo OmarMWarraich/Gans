{
 "cells": [
  {
   "cell_type": "markdown",
   "id": "27cef9db",
   "metadata": {},
   "source": [
    "# Create a generative adversarial network, building and training a GAN that can generate hand-written images of digist(0-9)"
   ]
  },
  {
   "cell_type": "markdown",
   "id": "f3143ae4",
   "metadata": {},
   "source": [
    "### Learning Objectives\n",
    "1. Build the generator and discriminator components of a GAN from scratch.\n",
    "2. Create generator and discriminator loss functions.\n",
    "3. Train your GAN and visualize the generated images."
   ]
  },
  {
   "cell_type": "markdown",
   "id": "4df07aca",
   "metadata": {},
   "source": [
    "### Getting Started\n",
    "Import useful packages and the dataset you will use to build and train your GAN. A visualizer function is there to investigate the images the GAN will create."
   ]
  },
  {
   "cell_type": "code",
   "execution_count": 1,
   "id": "15338e33",
   "metadata": {},
   "outputs": [],
   "source": [
    "import torch\n",
    "from torch import nn\n",
    "from tqdm.auto import tqdm\n",
    "from torchvision import transforms\n",
    "from torchvision.datasets import MNIST  # Training dataset\n",
    "from torchvision.utils import make_grid\n",
    "from torch.utils.data import DataLoader\n",
    "import matplotlib.pyplot as plt\n",
    "torch.manual_seed(0) # Set for training purposes, do not change\n",
    "\n",
    "def show_tensor_images(image_tensor, num_images=25, size=(1, 28, 28)):\n",
    "    '''\n",
    "    Function for visualizing images: Given a tensor of images, number of images, and size per images, plots and \n",
    "    prints the images in a uniform grid.\n",
    "    '''\n",
    "    image_unflat = image_tensor.detach().cpu().view(-1, *size)\n",
    "    image_grid = make_grid(image_unflat[:num_images], nrow=5)\n",
    "    plt.imshow(image_grid.permute(1,2,0).squeeze())\n",
    "    plt.show()\n"
   ]
  },
  {
   "cell_type": "code",
   "execution_count": null,
   "id": "bdba9ea9",
   "metadata": {},
   "outputs": [],
   "source": []
  },
  {
   "cell_type": "code",
   "execution_count": null,
   "id": "c245f528",
   "metadata": {},
   "outputs": [],
   "source": []
  }
 ],
 "metadata": {
  "kernelspec": {
   "display_name": "Python 3",
   "language": "python",
   "name": "python3"
  },
  "language_info": {
   "codemirror_mode": {
    "name": "ipython",
    "version": 3
   },
   "file_extension": ".py",
   "mimetype": "text/x-python",
   "name": "python",
   "nbconvert_exporter": "python",
   "pygments_lexer": "ipython3",
   "version": "3.8.8"
  }
 },
 "nbformat": 4,
 "nbformat_minor": 5
}
